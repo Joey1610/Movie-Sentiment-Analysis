{
 "cells": [
  {
   "cell_type": "code",
   "execution_count": 15,
   "id": "4b5ae701",
   "metadata": {},
   "outputs": [],
   "source": [
    "import numpy as np\n",
    "import tensorflow as tf\n",
    "from tensorflow.keras.datasets import imdb\n",
    "from tensorflow.keras.preprocessing import sequence\n",
    "from tensorflow.keras.models import load_model"
   ]
  },
  {
   "cell_type": "code",
   "execution_count": 16,
   "id": "e0f7877a",
   "metadata": {},
   "outputs": [],
   "source": [
    "##Load the IMDB dataset word index\n",
    "word_index = imdb.get_word_index()\n",
    "reverse_word_index = {value:key for key, value in word_index.items()}\n"
   ]
  },
  {
   "cell_type": "code",
   "execution_count": 17,
   "id": "c5ca2ea4",
   "metadata": {},
   "outputs": [
    {
     "data": {
      "text/html": [
       "<pre style=\"white-space:pre;overflow-x:auto;line-height:normal;font-family:Menlo,'DejaVu Sans Mono',consolas,'Courier New',monospace\"><span style=\"font-weight: bold\">Model: \"sequential_4\"</span>\n",
       "</pre>\n"
      ],
      "text/plain": [
       "\u001b[1mModel: \"sequential_4\"\u001b[0m\n"
      ]
     },
     "metadata": {},
     "output_type": "display_data"
    },
    {
     "data": {
      "text/html": [
       "<pre style=\"white-space:pre;overflow-x:auto;line-height:normal;font-family:Menlo,'DejaVu Sans Mono',consolas,'Courier New',monospace\">┏━━━━━━━━━━━━━━━━━━━━━━━━━━━━━━━━━┳━━━━━━━━━━━━━━━━━━━━━━━━┳━━━━━━━━━━━━━━━┓\n",
       "┃<span style=\"font-weight: bold\"> Layer (type)                    </span>┃<span style=\"font-weight: bold\"> Output Shape           </span>┃<span style=\"font-weight: bold\">       Param # </span>┃\n",
       "┡━━━━━━━━━━━━━━━━━━━━━━━━━━━━━━━━━╇━━━━━━━━━━━━━━━━━━━━━━━━╇━━━━━━━━━━━━━━━┩\n",
       "│ embedding_4 (<span style=\"color: #0087ff; text-decoration-color: #0087ff\">Embedding</span>)         │ (<span style=\"color: #00d7ff; text-decoration-color: #00d7ff\">None</span>, <span style=\"color: #00af00; text-decoration-color: #00af00\">500</span>, <span style=\"color: #00af00; text-decoration-color: #00af00\">128</span>)       │     <span style=\"color: #00af00; text-decoration-color: #00af00\">1,280,000</span> │\n",
       "├─────────────────────────────────┼────────────────────────┼───────────────┤\n",
       "│ simple_rnn_2 (<span style=\"color: #0087ff; text-decoration-color: #0087ff\">SimpleRNN</span>)        │ (<span style=\"color: #00d7ff; text-decoration-color: #00d7ff\">None</span>, <span style=\"color: #00af00; text-decoration-color: #00af00\">128</span>)            │        <span style=\"color: #00af00; text-decoration-color: #00af00\">32,896</span> │\n",
       "├─────────────────────────────────┼────────────────────────┼───────────────┤\n",
       "│ dense_2 (<span style=\"color: #0087ff; text-decoration-color: #0087ff\">Dense</span>)                 │ (<span style=\"color: #00d7ff; text-decoration-color: #00d7ff\">None</span>, <span style=\"color: #00af00; text-decoration-color: #00af00\">1</span>)              │           <span style=\"color: #00af00; text-decoration-color: #00af00\">129</span> │\n",
       "└─────────────────────────────────┴────────────────────────┴───────────────┘\n",
       "</pre>\n"
      ],
      "text/plain": [
       "┏━━━━━━━━━━━━━━━━━━━━━━━━━━━━━━━━━┳━━━━━━━━━━━━━━━━━━━━━━━━┳━━━━━━━━━━━━━━━┓\n",
       "┃\u001b[1m \u001b[0m\u001b[1mLayer (type)                   \u001b[0m\u001b[1m \u001b[0m┃\u001b[1m \u001b[0m\u001b[1mOutput Shape          \u001b[0m\u001b[1m \u001b[0m┃\u001b[1m \u001b[0m\u001b[1m      Param #\u001b[0m\u001b[1m \u001b[0m┃\n",
       "┡━━━━━━━━━━━━━━━━━━━━━━━━━━━━━━━━━╇━━━━━━━━━━━━━━━━━━━━━━━━╇━━━━━━━━━━━━━━━┩\n",
       "│ embedding_4 (\u001b[38;5;33mEmbedding\u001b[0m)         │ (\u001b[38;5;45mNone\u001b[0m, \u001b[38;5;34m500\u001b[0m, \u001b[38;5;34m128\u001b[0m)       │     \u001b[38;5;34m1,280,000\u001b[0m │\n",
       "├─────────────────────────────────┼────────────────────────┼───────────────┤\n",
       "│ simple_rnn_2 (\u001b[38;5;33mSimpleRNN\u001b[0m)        │ (\u001b[38;5;45mNone\u001b[0m, \u001b[38;5;34m128\u001b[0m)            │        \u001b[38;5;34m32,896\u001b[0m │\n",
       "├─────────────────────────────────┼────────────────────────┼───────────────┤\n",
       "│ dense_2 (\u001b[38;5;33mDense\u001b[0m)                 │ (\u001b[38;5;45mNone\u001b[0m, \u001b[38;5;34m1\u001b[0m)              │           \u001b[38;5;34m129\u001b[0m │\n",
       "└─────────────────────────────────┴────────────────────────┴───────────────┘\n"
      ]
     },
     "metadata": {},
     "output_type": "display_data"
    },
    {
     "data": {
      "text/html": [
       "<pre style=\"white-space:pre;overflow-x:auto;line-height:normal;font-family:Menlo,'DejaVu Sans Mono',consolas,'Courier New',monospace\"><span style=\"font-weight: bold\"> Total params: </span><span style=\"color: #00af00; text-decoration-color: #00af00\">3,939,077</span> (15.03 MB)\n",
       "</pre>\n"
      ],
      "text/plain": [
       "\u001b[1m Total params: \u001b[0m\u001b[38;5;34m3,939,077\u001b[0m (15.03 MB)\n"
      ]
     },
     "metadata": {},
     "output_type": "display_data"
    },
    {
     "data": {
      "text/html": [
       "<pre style=\"white-space:pre;overflow-x:auto;line-height:normal;font-family:Menlo,'DejaVu Sans Mono',consolas,'Courier New',monospace\"><span style=\"font-weight: bold\"> Trainable params: </span><span style=\"color: #00af00; text-decoration-color: #00af00\">1,313,025</span> (5.01 MB)\n",
       "</pre>\n"
      ],
      "text/plain": [
       "\u001b[1m Trainable params: \u001b[0m\u001b[38;5;34m1,313,025\u001b[0m (5.01 MB)\n"
      ]
     },
     "metadata": {},
     "output_type": "display_data"
    },
    {
     "data": {
      "text/html": [
       "<pre style=\"white-space:pre;overflow-x:auto;line-height:normal;font-family:Menlo,'DejaVu Sans Mono',consolas,'Courier New',monospace\"><span style=\"font-weight: bold\"> Non-trainable params: </span><span style=\"color: #00af00; text-decoration-color: #00af00\">0</span> (0.00 B)\n",
       "</pre>\n"
      ],
      "text/plain": [
       "\u001b[1m Non-trainable params: \u001b[0m\u001b[38;5;34m0\u001b[0m (0.00 B)\n"
      ]
     },
     "metadata": {},
     "output_type": "display_data"
    },
    {
     "data": {
      "text/html": [
       "<pre style=\"white-space:pre;overflow-x:auto;line-height:normal;font-family:Menlo,'DejaVu Sans Mono',consolas,'Courier New',monospace\"><span style=\"font-weight: bold\"> Optimizer params: </span><span style=\"color: #00af00; text-decoration-color: #00af00\">2,626,052</span> (10.02 MB)\n",
       "</pre>\n"
      ],
      "text/plain": [
       "\u001b[1m Optimizer params: \u001b[0m\u001b[38;5;34m2,626,052\u001b[0m (10.02 MB)\n"
      ]
     },
     "metadata": {},
     "output_type": "display_data"
    }
   ],
   "source": [
    "##load keras model\n",
    "model = load_model('simple_rnn_imdb.keras')\n",
    "model.summary()"
   ]
  },
  {
   "cell_type": "code",
   "execution_count": 18,
   "id": "ea986eac",
   "metadata": {},
   "outputs": [
    {
     "data": {
      "text/plain": [
       "[array([[ 1.20582926e+00,  1.43490672e-01,  1.38470507e+00, ...,\n",
       "         -5.86242735e-01,  2.89571643e-01, -3.48393232e-01],\n",
       "        [ 7.92734474e-02,  3.58666442e-02,  1.17408767e-01, ...,\n",
       "         -1.25116063e-02, -7.81465620e-02,  2.28833221e-02],\n",
       "        [ 1.36854574e-01, -3.77160721e-02,  1.80168584e-01, ...,\n",
       "         -2.57776864e-02,  1.25365425e-02,  4.22875583e-02],\n",
       "        ...,\n",
       "        [-5.41157275e-02, -1.78444888e-02,  5.00111543e-02, ...,\n",
       "         -1.19436914e-02, -8.85396078e-03, -7.77603453e-03],\n",
       "        [-6.08696193e-02,  4.09337319e-02, -5.83760366e-02, ...,\n",
       "          1.96373723e-02, -6.74614087e-02,  5.22678485e-03],\n",
       "        [ 4.26165797e-02,  2.86315084e-02,  4.76116780e-04, ...,\n",
       "          3.67682576e-02,  1.13754570e-02,  7.54514635e-02]],\n",
       "       shape=(10000, 128), dtype=float32),\n",
       " array([[-0.14996633,  0.00237133,  0.12055458, ..., -0.03123314,\n",
       "          0.03797458, -0.0865396 ],\n",
       "        [ 0.01166176,  0.03109711,  0.06898683, ...,  0.03414325,\n",
       "         -0.03713674, -0.07534193],\n",
       "        [ 0.03660069, -0.0191026 , -0.00436991, ..., -0.03961278,\n",
       "         -0.08892275, -0.15453643],\n",
       "        ...,\n",
       "        [-0.03764491, -0.13556686,  0.12522566, ..., -0.06235595,\n",
       "         -0.11137111, -0.06846088],\n",
       "        [-0.13980527,  0.0445732 , -0.10570651, ...,  0.06475846,\n",
       "         -0.09283895,  0.03567661],\n",
       "        [ 0.1523884 ,  0.05641683,  0.07925439, ...,  0.04052551,\n",
       "         -0.12053072,  0.01763953]], shape=(128, 128), dtype=float32),\n",
       " array([[ 0.1980673 ,  0.04882934,  0.02445938, ...,  0.15932702,\n",
       "          0.14129388, -0.14305209],\n",
       "        [-0.02520468,  0.01969451, -0.08494335, ...,  0.10133037,\n",
       "          0.01567532, -0.06241685],\n",
       "        [ 0.00129281, -0.00743853,  0.00659422, ...,  0.0024019 ,\n",
       "          0.06146356,  0.03806498],\n",
       "        ...,\n",
       "        [-0.05897261, -0.07100449, -0.10157847, ...,  0.06973521,\n",
       "          0.04259761, -0.1273303 ],\n",
       "        [ 0.00914685, -0.12297291,  0.10484944, ...,  0.09337912,\n",
       "         -0.00217091, -0.04305447],\n",
       "        [-0.01398648, -0.13058022, -0.15159036, ...,  0.10679935,\n",
       "         -0.12606888,  0.02666724]], shape=(128, 128), dtype=float32),\n",
       " array([-5.47298938e-02, -2.38418556e-03,  3.73771749e-02, -3.68208438e-02,\n",
       "         2.26976518e-02,  4.21989448e-02, -1.75235514e-02, -2.66656131e-02,\n",
       "         5.97766936e-02, -3.78700644e-02, -4.00352897e-03,  4.27824669e-02,\n",
       "         2.78125405e-02, -2.05928460e-02,  4.09091748e-02,  6.13773847e-03,\n",
       "         1.86060518e-02, -1.00951120e-02,  5.82703911e-02, -2.07594540e-02,\n",
       "        -3.78406905e-02, -1.81065232e-03, -1.59932266e-03, -5.70515990e-02,\n",
       "        -4.13537696e-02, -4.22553569e-02,  5.12122996e-02, -5.36079183e-02,\n",
       "        -7.76058957e-02,  1.41866803e-02, -2.04824284e-02, -4.33749482e-02,\n",
       "        -3.08482107e-02,  1.92040503e-02,  2.85150148e-02, -2.15799976e-02,\n",
       "        -5.56630902e-02,  9.51057207e-03, -4.75402176e-03, -2.88965949e-03,\n",
       "        -3.64474468e-02, -3.53051610e-02, -2.33034343e-02,  6.14801943e-02,\n",
       "         4.21141014e-02,  6.02685288e-03, -1.52767287e-03, -1.52686145e-02,\n",
       "         2.13275664e-02,  3.40805128e-02,  2.61521433e-02, -9.71225463e-03,\n",
       "        -5.61413467e-02, -1.48501322e-02,  4.10249010e-02,  2.55064964e-02,\n",
       "        -7.41553754e-02, -2.20906939e-02, -6.59045875e-02, -1.73510406e-02,\n",
       "         5.24858806e-05, -3.54439653e-02, -3.32434885e-02, -3.80439544e-03,\n",
       "        -7.06740841e-03, -3.15245911e-02,  5.19720167e-02, -5.35125425e-03,\n",
       "        -4.09693345e-02, -2.53079347e-02, -3.09107117e-02, -2.56511755e-02,\n",
       "         2.80855875e-02, -6.32294640e-02,  2.52428185e-02, -3.68215330e-02,\n",
       "        -9.41459090e-02,  6.82601109e-02, -5.09559922e-02, -1.15585895e-02,\n",
       "        -2.34356932e-02,  1.53477378e-02, -4.33402695e-02,  1.12790354e-02,\n",
       "        -2.71583628e-02, -3.17892060e-02, -1.37055842e-02,  1.02048684e-02,\n",
       "        -1.53746475e-02, -3.53225395e-02, -5.78910671e-02, -4.48760875e-02,\n",
       "         2.25088112e-02,  4.37558107e-02, -3.82255353e-02,  2.73033585e-02,\n",
       "        -5.61232343e-02,  1.22017683e-02, -4.32202928e-02, -4.25687693e-02,\n",
       "         3.71335936e-03, -1.22760879e-02, -2.57741883e-02, -2.45134276e-03,\n",
       "        -2.13183966e-02,  5.31152710e-02,  3.46224047e-02, -1.72035974e-02,\n",
       "        -1.15466984e-02,  1.77637953e-02, -3.19105503e-03, -1.60326157e-02,\n",
       "         7.91974086e-03,  1.12575712e-02, -4.47188653e-02, -7.60106593e-02,\n",
       "        -2.37040222e-02, -1.37219299e-02, -1.05080567e-02, -4.32087369e-02,\n",
       "        -4.03342918e-02,  2.48525962e-02,  1.86960760e-03, -1.02753900e-02,\n",
       "         1.65865663e-02,  4.87067811e-02,  3.95678021e-02, -3.90177295e-02],\n",
       "       dtype=float32),\n",
       " array([[-0.15728915],\n",
       "        [ 0.11287881],\n",
       "        [ 0.00892448],\n",
       "        [ 0.07484628],\n",
       "        [ 0.1071813 ],\n",
       "        [-0.01554269],\n",
       "        [ 0.09504984],\n",
       "        [ 0.30324504],\n",
       "        [-0.11382292],\n",
       "        [-0.20755722],\n",
       "        [ 0.19910412],\n",
       "        [-0.14445023],\n",
       "        [ 0.03377499],\n",
       "        [ 0.01224907],\n",
       "        [-0.12332317],\n",
       "        [ 0.0702597 ],\n",
       "        [-0.13930586],\n",
       "        [-0.17887188],\n",
       "        [-0.05253068],\n",
       "        [ 0.0219776 ],\n",
       "        [-0.05400495],\n",
       "        [ 0.00482386],\n",
       "        [-0.08780526],\n",
       "        [ 0.20916076],\n",
       "        [ 0.02016854],\n",
       "        [ 0.22950828],\n",
       "        [-0.15523556],\n",
       "        [ 0.08580182],\n",
       "        [-0.28561807],\n",
       "        [ 0.46263573],\n",
       "        [ 0.12812203],\n",
       "        [-0.10311257],\n",
       "        [ 0.11546954],\n",
       "        [ 0.08614776],\n",
       "        [ 0.02335228],\n",
       "        [ 0.14148732],\n",
       "        [ 0.07448763],\n",
       "        [-0.17171648],\n",
       "        [ 0.22510532],\n",
       "        [-0.04205569],\n",
       "        [ 0.11591901],\n",
       "        [ 0.22406785],\n",
       "        [-0.04018611],\n",
       "        [-0.08252961],\n",
       "        [-0.00645094],\n",
       "        [-0.14375123],\n",
       "        [-0.15379961],\n",
       "        [-0.14967942],\n",
       "        [-0.07926054],\n",
       "        [-0.11297657],\n",
       "        [-0.08044013],\n",
       "        [ 0.23415679],\n",
       "        [ 0.11028607],\n",
       "        [ 0.10147963],\n",
       "        [-0.16769911],\n",
       "        [-0.15406922],\n",
       "        [-0.16980815],\n",
       "        [ 0.21045178],\n",
       "        [ 0.17363802],\n",
       "        [ 0.18559204],\n",
       "        [-0.11656238],\n",
       "        [ 0.08565832],\n",
       "        [-0.3257508 ],\n",
       "        [ 0.20660959],\n",
       "        [ 0.05111621],\n",
       "        [-0.17895532],\n",
       "        [-0.01043498],\n",
       "        [-0.20388657],\n",
       "        [ 0.17507821],\n",
       "        [ 0.18260267],\n",
       "        [ 0.06528082],\n",
       "        [-0.03963725],\n",
       "        [-0.00849537],\n",
       "        [-0.0795917 ],\n",
       "        [ 0.10162883],\n",
       "        [ 0.0539887 ],\n",
       "        [ 0.10488723],\n",
       "        [ 0.09021689],\n",
       "        [ 0.18738554],\n",
       "        [-0.05794178],\n",
       "        [ 0.0835013 ],\n",
       "        [-0.1479137 ],\n",
       "        [ 0.16904049],\n",
       "        [-0.1940912 ],\n",
       "        [-0.09129161],\n",
       "        [ 0.18375051],\n",
       "        [ 0.2391368 ],\n",
       "        [-0.053255  ],\n",
       "        [-0.03788774],\n",
       "        [ 0.13007823],\n",
       "        [-0.04450721],\n",
       "        [ 0.12412839],\n",
       "        [-0.16000721],\n",
       "        [-0.12397619],\n",
       "        [-0.0316779 ],\n",
       "        [ 0.03506617],\n",
       "        [ 0.28309742],\n",
       "        [ 0.06246593],\n",
       "        [ 0.14397475],\n",
       "        [ 0.22286986],\n",
       "        [ 0.03150425],\n",
       "        [ 0.09018305],\n",
       "        [-0.1784792 ],\n",
       "        [ 0.08057561],\n",
       "        [ 0.19520421],\n",
       "        [ 0.06349458],\n",
       "        [-0.15359864],\n",
       "        [ 0.27573672],\n",
       "        [-0.20305277],\n",
       "        [-0.03733777],\n",
       "        [ 0.13868701],\n",
       "        [ 0.21101955],\n",
       "        [ 0.10884661],\n",
       "        [-0.01306951],\n",
       "        [ 0.05055324],\n",
       "        [ 0.09550353],\n",
       "        [ 0.19893213],\n",
       "        [-0.22543296],\n",
       "        [ 0.22224097],\n",
       "        [ 0.2400416 ],\n",
       "        [ 0.23719661],\n",
       "        [-0.05647471],\n",
       "        [ 0.19322534],\n",
       "        [-0.6001167 ],\n",
       "        [-0.1159388 ],\n",
       "        [-0.05980539],\n",
       "        [ 0.03468871],\n",
       "        [ 0.00442609]], dtype=float32),\n",
       " array([0.5164777], dtype=float32)]"
      ]
     },
     "execution_count": 18,
     "metadata": {},
     "output_type": "execute_result"
    }
   ],
   "source": [
    "##get weights\n",
    "model.get_weights()"
   ]
  },
  {
   "cell_type": "code",
   "execution_count": 19,
   "id": "6ef517fa",
   "metadata": {},
   "outputs": [],
   "source": [
    "##Step 2: Helper Functions\n",
    "\n",
    "#Functionto decode reviews\n",
    "def  decode_review(encoded_review):\n",
    "    return ' '.join([reverse_word_index.get(i-3,'?') for i in encoded_review])\n",
    "\n",
    "#Fuction to preprocess user input\n",
    "def preprocess_text(text):\n",
    "    words = text.lower().split()\n",
    "    encoded_review = [word_index.get(word,2) + 3 for word in words]\n",
    "    padded_review = sequence.pad_sequences([encoded_review],maxlen = 500)\n",
    "    return padded_review\n"
   ]
  },
  {
   "cell_type": "code",
   "execution_count": 20,
   "id": "a47f6f9c",
   "metadata": {},
   "outputs": [],
   "source": [
    "##Prediction Function\n",
    "def predict_sentiment(review):\n",
    "    preprocessed_input = preprocess_text(review)\n",
    "\n",
    "    prediction = model.predict(preprocessed_input)\n",
    "\n",
    "    sentiment = 'Positive' if prediction[0][0]>0.5 else 'Negative'\n",
    "\n",
    "    return sentiment, prediction[0][0]"
   ]
  },
  {
   "cell_type": "code",
   "execution_count": 21,
   "id": "b1d22d08",
   "metadata": {},
   "outputs": [
    {
     "name": "stdout",
     "output_type": "stream",
     "text": [
      "\u001b[1m1/1\u001b[0m \u001b[32m━━━━━━━━━━━━━━━━━━━━\u001b[0m\u001b[37m\u001b[0m \u001b[1m0s\u001b[0m 413ms/step\n",
      "Review: This movie was fantastic! The acting was great and the plot was thrilling.\n",
      "Sentiment: Negative\n",
      "Prediction: 0.2504239082336426\n"
     ]
    }
   ],
   "source": [
    "##Step 4: User Input and Prediction\n",
    "#Example review for prediction\n",
    "example_review = \"This movie was fantastic! The acting was great and the plot was thrilling.\"\n",
    "\n",
    "sentiment, score = predict_sentiment(example_review)\n",
    "\n",
    "print(f\"Review: {example_review}\")\n",
    "print(f\"Sentiment: {sentiment}\")\n",
    "print(f\"Prediction: {score}\")\n",
    "# print(\"Sentiment:{} \\nPrediction Score:{:.2f}\".format(sentiment,score))"
   ]
  },
  {
   "cell_type": "code",
   "execution_count": null,
   "id": "ecaedcd9",
   "metadata": {},
   "outputs": [],
   "source": []
  }
 ],
 "metadata": {
  "kernelspec": {
   "display_name": "rnn",
   "language": "python",
   "name": "python3"
  },
  "language_info": {
   "codemirror_mode": {
    "name": "ipython",
    "version": 3
   },
   "file_extension": ".py",
   "mimetype": "text/x-python",
   "name": "python",
   "nbconvert_exporter": "python",
   "pygments_lexer": "ipython3",
   "version": "3.10.7"
  }
 },
 "nbformat": 4,
 "nbformat_minor": 5
}
